{
 "cells": [
  {
   "cell_type": "markdown",
   "id": "7fae380f",
   "metadata": {},
   "source": [
    "# Comparativa Algoritmos de Ordenación"
   ]
  },
  {
   "cell_type": "markdown",
   "id": "03f77b4d",
   "metadata": {},
   "source": [
    "## Implementación de Algoritmos de Ordenamiento"
   ]
  },
  {
   "cell_type": "code",
   "execution_count": 10,
   "id": "127c42b7",
   "metadata": {},
   "outputs": [],
   "source": [
    "import numpy as np\n",
    "import copy\n",
    "import matplotlib.pyplot as plt"
   ]
  },
  {
   "cell_type": "markdown",
   "id": "44ed5cfc",
   "metadata": {},
   "source": [
    "### BubbleSort"
   ]
  },
  {
   "cell_type": "code",
   "execution_count": 11,
   "id": "1a2f154c",
   "metadata": {},
   "outputs": [],
   "source": [
    "class BubbleSort:\n",
    "    def __init__(self, array):\n",
    "        self.array = copy.deepcopy(array)\n",
    "        self.num_comparisons = 0\n",
    "        self.num_swaps = 0\n",
    "        self.n = len(array)\n",
    "\n",
    "    def sorting(self):\n",
    "        for i in range(self.n - 1):\n",
    "            for j in range(0, self.n - i - 1):\n",
    "                self.num_comparisons += 1\n",
    "                if self.array[j + 1] < self.array[j]:\n",
    "                    self.array[j + 1] , self.array[j] = self.array[j] , self.array[j + 1]\n",
    "                    self.num_swaps += 1"
   ]
  },
  {
   "cell_type": "markdown",
   "id": "64525d65",
   "metadata": {},
   "source": [
    "### FlagBubbleSort"
   ]
  },
  {
   "cell_type": "code",
   "execution_count": 12,
   "id": "4bbe3b07",
   "metadata": {},
   "outputs": [],
   "source": [
    "class FlagBubbleSort:\n",
    "    def __init__(self, array):\n",
    "        self.array = copy.deepcopy(array)\n",
    "        self.num_comparisons = 0\n",
    "        self.num_swaps = 0\n",
    "        self.n = len(array)\n",
    "\n",
    "    def sorting(self):\n",
    "        for i in range(self.n - 1):\n",
    "            swapped = False\n",
    "            for j in range(0, self.n - i - 1):\n",
    "                self.num_comparisons += 1\n",
    "                if self.array[j + 1] < self.array[j]:\n",
    "                    self.array[j + 1] , self.array[j] = self.array[j] , self.array[j + 1]\n",
    "                    self.num_swaps += 1\n",
    "                    swapped = True\n",
    "            if not swapped:\n",
    "                break"
   ]
  },
  {
   "cell_type": "markdown",
   "id": "e229f625",
   "metadata": {},
   "source": [
    "### QuickSort"
   ]
  },
  {
   "cell_type": "code",
   "execution_count": 13,
   "id": "0009de95",
   "metadata": {},
   "outputs": [],
   "source": [
    "def median_of_3(array, low, high):\n",
    "    x1 = array[low]\n",
    "    middle = (low + high + 1)//2\n",
    "    x2 = array[middle]\n",
    "    x3 = array[high]\n",
    "    if (x2 <= x1 and x1<=x3) or (x3 <= x1 and x1<=x2):\n",
    "        return low\n",
    "    elif(x1 <= x2 and x2<=x3) or (x3 <= x2 and x2<=x1):\n",
    "        return middle\n",
    "    else:\n",
    "        return high"
   ]
  },
  {
   "cell_type": "code",
   "execution_count": 14,
   "id": "319c3990",
   "metadata": {},
   "outputs": [],
   "source": [
    "class QuickSort:\n",
    "    def __init__(self, array) -> None:\n",
    "        self.array = copy.deepcopy(array)\n",
    "        self._num_comparisons = 0\n",
    "        self._num_swaps = 0\n",
    "        self.n = len(array)\n",
    "    def partition(self, low, high):\n",
    "        \"\"\"\n",
    "        Create partition function for inplace array modification\n",
    "        \"\"\"\n",
    "        i = low - 1\n",
    "        pivot_index = median_of_3(self.array, low, high)\n",
    "        self.array[pivot_index], self.array[high] = self.array[high], self.array[pivot_index]\n",
    "        #print('partition index: ', self.array[pivot_index])\n",
    "        pivot = self.array[high]\n",
    "        for j in range(low, high):\n",
    "            self.num_comparisons += 1\n",
    "            if self.array[j] <= pivot:\n",
    "                self.num_swaps += 1\n",
    "                i = i + 1\n",
    "                self.array[j], self.array[i] = self.array[i], self.array[j]\n",
    "        self.array[i + 1], self.array[high] = self.array[high], self.array[i + 1]\n",
    "        return i + 1\n",
    "\n",
    "    def q_sort(self, low, high):\n",
    "        \"\"\"\n",
    "        Perform recursive calls\n",
    "        \"\"\"\n",
    "        if low < high:\n",
    "            q = self.partition(low, high)\n",
    "            #print('pivot: ', self.array[q], ', index: ', q)\n",
    "            #print(self.array)\n",
    "            self.q_sort(low, q - 1)\n",
    "            self.q_sort(q + 1, high)\n",
    "    def sorting(self):\n",
    "        #print('1st call: ', self.array)\n",
    "        self.num_comparisons = 0\n",
    "        self.num_swaps = 0\n",
    "        self.q_sort(0, self.n - 1)"
   ]
  },
  {
   "cell_type": "markdown",
   "id": "aaf6d90b",
   "metadata": {},
   "source": [
    "## Comparativa de performance"
   ]
  },
  {
   "cell_type": "code",
   "execution_count": 15,
   "id": "58c6d689",
   "metadata": {},
   "outputs": [],
   "source": [
    "comparisons_qs = []\n",
    "swaps_qs = []\n",
    "comparisons_bs = []\n",
    "swaps_bs = []\n",
    "comparisons_fbs = []\n",
    "swaps_fbs = []\n",
    "lenghts = []"
   ]
  },
  {
   "cell_type": "code",
   "execution_count": 16,
   "id": "b957c69b",
   "metadata": {},
   "outputs": [
    {
     "name": "stdout",
     "output_type": "stream",
     "text": [
      "Array 100 done\n",
      "Array 200 done\n",
      "Array 300 done\n",
      "Array 400 done\n",
      "Array 500 done\n",
      "Array 600 done\n",
      "Array 700 done\n",
      "Array 800 done\n",
      "Array 900 done\n",
      "Array 1000 done\n",
      "Array 1100 done\n",
      "Array 1200 done\n",
      "Array 1300 done\n",
      "Array 1400 done\n",
      "Array 1500 done\n",
      "Array 1600 done\n",
      "Array 1700 done\n",
      "Array 1800 done\n",
      "Array 1900 done\n",
      "Array 2000 done\n"
     ]
    }
   ],
   "source": [
    "for i in range(100, 2_001, 100):\n",
    "    temp_arr = np.random.randint(0, 100_000, i)\n",
    "    temp_qsort = QuickSort(temp_arr)\n",
    "    temp_qsort.sorting()\n",
    "    temp_bsort = BubbleSort(temp_arr)\n",
    "    temp_bsort.sorting()\n",
    "    temp_fbsort = FlagBubbleSort(temp_arr)\n",
    "    temp_fbsort.sorting()\n",
    "    lenghts.append(i)\n",
    "    swaps_qs.append(temp_qsort.num_swaps)\n",
    "    comparisons_qs.append(temp_qsort.num_comparisons)\n",
    "    swaps_bs.append(temp_bsort.num_swaps)\n",
    "    comparisons_bs.append(temp_bsort.num_comparisons)\n",
    "    swaps_fbs.append(temp_fbsort.num_swaps)\n",
    "    comparisons_fbs.append(temp_fbsort.num_comparisons)\n",
    "    print(f'Array {i} done')"
   ]
  },
  {
   "cell_type": "code",
   "execution_count": 19,
   "id": "da3af02e",
   "metadata": {},
   "outputs": [
    {
     "data": {
      "image/png": "[encoded data removed]",
      "text/plain": [
       "<Figure size 640x480 with 1 Axes>"
      ]
     },
     "metadata": {},
     "output_type": "display_data"
    }
   ],
   "source": [
    "plt.scatter(x = lenghts, y = comparisons_qs, label='Quicksort', s = 12, c = 'g')\n",
    "plt.scatter(x = lenghts, y = comparisons_bs, label='Bubblesort', s = 12, c = 'r', marker = 'x')\n",
    "plt.scatter(x = lenghts, y = comparisons_fbs, label='FlagBubblesort', s = 12, c = 'b', marker = 'v')\n",
    "plt.title('Number of Comparisons')\n",
    "plt.xlabel('Array Length')\n",
    "plt.legend()\n",
    "plt.show()"
   ]
  },
  {
   "cell_type": "code",
   "execution_count": 20,
   "id": "7e0a2aa1",
   "metadata": {},
   "outputs": [
    {
     "data": {
      "image/png": "[encoded data removed]",
      "text/plain": [
       "<Figure size 640x480 with 1 Axes>"
      ]
     },
     "metadata": {},
     "output_type": "display_data"
    }
   ],
   "source": [
    "plt.scatter(x = lenghts, y = swaps_qs, label='Quicksort', s = 12, c = 'g')\n",
    "plt.scatter(x = lenghts, y = swaps_bs, label='Bubblesort', s = 12, c = 'r', marker = 'x')\n",
    "plt.scatter(x = lenghts, y = swaps_fbs, label='FlagBubblesort', s = 12, c = 'b', marker = 'v')\n",
    "plt.xlabel('Array Length')\n",
    "plt.title('Number of swaps')\n",
    "plt.legend()\n",
    "plt.show()"
   ]
  },
  {
   "cell_type": "markdown",
   "id": "69812c1a",
   "metadata": {},
   "source": [
    "En Terminal\n",
    "Ejecutar\n",
    "\n",
    "pdflatex reporte_quicksort.tex\n",
    "\n",
    "bibtex reporte_quicksort Este es el que falta\n",
    "\n",
    "pdflatex reporte_quicksort.tex\n",
    "\n",
    "pdflatex reporte_quicksort.tex"
   ]
  }
 ],
 "metadata": {
  "kernelspec": {
   "display_name": "Python 3",
   "language": "python",
   "name": "python3"
  },
  "language_info": {
   "codemirror_mode": {
    "name": "ipython",
    "version": 3
   },
   "file_extension": ".py",
   "mimetype": "text/x-python",
   "name": "python",
   "nbconvert_exporter": "python",
   "pygments_lexer": "ipython3",
   "version": "3.11.9"
  }
 },
 "nbformat": 4,
 "nbformat_minor": 5
}
