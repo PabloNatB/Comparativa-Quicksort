{
 "cells": [
  {
   "cell_type": "markdown",
   "id": "03f77b4d",
   "metadata": {},
   "source": [
    "# Implementación de Algoritmos de Ordenamiento"
   ]
  },
  {
   "cell_type": "markdown",
   "id": "44ed5cfc",
   "metadata": {},
   "source": [
    "## BubbleSort"
   ]
  },
  {
   "cell_type": "code",
   "execution_count": 11,
   "id": "1a2f154c",
   "metadata": {},
   "outputs": [],
   "source": [
    "def bubbleSort(array : list[int])->list[int]:\n",
    "    n = len(array)\n",
    "    changes = 0\n",
    "    comparisons = 0\n",
    "    for i in range(n):\n",
    "        for j in range(i,n):\n",
    "            comparisons += 1\n",
    "            if array[j] > array[j + 1]:\n",
    "                array[j + 1], array[j] = array[j], array[j + 1]\n",
    "                changes += 1\n",
    "    print('com: ', comparisons, ', cambios: ', changes)\n",
    "    return array"
   ]
  },
  {
   "cell_type": "code",
   "execution_count": 12,
   "id": "fe7f2060",
   "metadata": {},
   "outputs": [
    {
     "ename": "IndexError",
     "evalue": "list index out of range",
     "output_type": "error",
     "traceback": [
      "\u001b[1;31m---------------------------------------------------------------------------\u001b[0m",
      "\u001b[1;31mIndexError\u001b[0m                                Traceback (most recent call last)",
      "Cell \u001b[1;32mIn[12], line 2\u001b[0m\n\u001b[0;32m      1\u001b[0m vec \u001b[38;5;241m=\u001b[39m [\u001b[38;5;241m6\u001b[39m, \u001b[38;5;241m1\u001b[39m, \u001b[38;5;241m0\u001b[39m, \u001b[38;5;241m8\u001b[39m, \u001b[38;5;241m3\u001b[39m, \u001b[38;5;241m5\u001b[39m, \u001b[38;5;241m9\u001b[39m, \u001b[38;5;241m20\u001b[39m]\n\u001b[1;32m----> 2\u001b[0m \u001b[43mbubbleSort\u001b[49m\u001b[43m(\u001b[49m\u001b[43mvec\u001b[49m\u001b[43m)\u001b[49m\n",
      "Cell \u001b[1;32mIn[11], line 8\u001b[0m, in \u001b[0;36mbubbleSort\u001b[1;34m(array)\u001b[0m\n\u001b[0;32m      6\u001b[0m \u001b[38;5;28;01mfor\u001b[39;00m j \u001b[38;5;129;01min\u001b[39;00m \u001b[38;5;28mrange\u001b[39m(i,n):\n\u001b[0;32m      7\u001b[0m     comparisons \u001b[38;5;241m+\u001b[39m\u001b[38;5;241m=\u001b[39m \u001b[38;5;241m1\u001b[39m\n\u001b[1;32m----> 8\u001b[0m     \u001b[38;5;28;01mif\u001b[39;00m array[j] \u001b[38;5;241m>\u001b[39m \u001b[43marray\u001b[49m\u001b[43m[\u001b[49m\u001b[43mj\u001b[49m\u001b[43m \u001b[49m\u001b[38;5;241;43m+\u001b[39;49m\u001b[43m \u001b[49m\u001b[38;5;241;43m1\u001b[39;49m\u001b[43m]\u001b[49m:\n\u001b[0;32m      9\u001b[0m         array[j \u001b[38;5;241m+\u001b[39m \u001b[38;5;241m1\u001b[39m], array[j] \u001b[38;5;241m=\u001b[39m array[j], array[j \u001b[38;5;241m+\u001b[39m \u001b[38;5;241m1\u001b[39m]\n\u001b[0;32m     10\u001b[0m         changes \u001b[38;5;241m+\u001b[39m\u001b[38;5;241m=\u001b[39m \u001b[38;5;241m1\u001b[39m\n",
      "\u001b[1;31mIndexError\u001b[0m: list index out of range"
     ]
    }
   ],
   "source": [
    "vec = [6, 1, 0, 8, 3, 5, 9, 20]\n",
    "bubbleSort(vec)"
   ]
  },
  {
   "cell_type": "code",
   "execution_count": null,
   "id": "a11dbd69",
   "metadata": {},
   "outputs": [],
   "source": []
  }
 ],
 "metadata": {
  "kernelspec": {
   "display_name": "Python 3",
   "language": "python",
   "name": "python3"
  },
  "language_info": {
   "codemirror_mode": {
    "name": "ipython",
    "version": 3
   },
   "file_extension": ".py",
   "mimetype": "text/x-python",
   "name": "python",
   "nbconvert_exporter": "python",
   "pygments_lexer": "ipython3",
   "version": "3.11.9"
  }
 },
 "nbformat": 4,
 "nbformat_minor": 5
}
