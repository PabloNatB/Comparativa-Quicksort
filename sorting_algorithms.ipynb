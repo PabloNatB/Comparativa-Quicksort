{
 "cells": [
  {
   "cell_type": "markdown",
   "id": "7fae380f",
   "metadata": {},
   "source": [
    "# Comparativa Algoritmos de Ordenación"
   ]
  },
  {
   "cell_type": "markdown",
   "id": "03f77b4d",
   "metadata": {},
   "source": [
    "## Implementación de Algoritmos de Ordenamiento"
   ]
  },
  {
   "cell_type": "code",
   "execution_count": 1,
   "id": "127c42b7",
   "metadata": {},
   "outputs": [],
   "source": [
    "import numpy as np\n",
    "import copy\n",
    "import matplotlib.pyplot as plt"
   ]
  },
  {
   "cell_type": "markdown",
   "id": "44ed5cfc",
   "metadata": {},
   "source": [
    "### BubbleSort"
   ]
  },
  {
   "cell_type": "code",
   "execution_count": 2,
   "id": "1a2f154c",
   "metadata": {},
   "outputs": [],
   "source": [
    "class BubbleSort:\n",
    "    def __init__(self, array):\n",
    "        self.array = copy.deepcopy(array)\n",
    "        self.num_comparisons = 0\n",
    "        self.num_swaps = 0\n",
    "        self.n = len(array)\n",
    "\n",
    "    def sorting(self):\n",
    "        for i in range(self.n - 1):\n",
    "            for j in range(0, self.n - i - 1):\n",
    "                self.num_comparisons += 1\n",
    "                if self.array[j + 1] < self.array[j]:\n",
    "                    self.array[j + 1] , self.array[j] = self.array[j] , self.array[j + 1]\n",
    "                    self.num_swaps += 1"
   ]
  },
  {
   "cell_type": "markdown",
   "id": "64525d65",
   "metadata": {},
   "source": [
    "### FlagBubbleSort"
   ]
  },
  {
   "cell_type": "code",
   "execution_count": 3,
   "id": "4bbe3b07",
   "metadata": {},
   "outputs": [],
   "source": [
    "class FlagBubbleSort:\n",
    "    def __init__(self, array):\n",
    "        self.array = copy.deepcopy(array)\n",
    "        self.num_comparisons = 0\n",
    "        self.num_swaps = 0\n",
    "        self.n = len(array)\n",
    "\n",
    "    def sorting(self):\n",
    "        for i in range(self.n - 1):\n",
    "            swapped = False\n",
    "            for j in range(0, self.n - i - 1):\n",
    "                self.num_comparisons += 1\n",
    "                if self.array[j + 1] < self.array[j]:\n",
    "                    self.array[j + 1] , self.array[j] = self.array[j] , self.array[j + 1]\n",
    "                    self.num_swaps += 1\n",
    "                    swapped = True\n",
    "            if not swapped:\n",
    "                break"
   ]
  },
  {
   "cell_type": "markdown",
   "id": "e229f625",
   "metadata": {},
   "source": [
    "### QuickSort"
   ]
  },
  {
   "cell_type": "code",
   "execution_count": 4,
   "id": "0009de95",
   "metadata": {},
   "outputs": [],
   "source": [
    "def median_of_3(array, low, high):\n",
    "    x1 = array[low]\n",
    "    middle = (low + high + 1)//2\n",
    "    x2 = array[middle]\n",
    "    x3 = array[high]\n",
    "    if (x2 <= x1 and x1<=x3) or (x3 <= x1 and x1<=x2):\n",
    "        return low\n",
    "    elif(x1 <= x2 and x2<=x3) or (x3 <= x2 and x2<=x1):\n",
    "        return middle\n",
    "    else:\n",
    "        return high"
   ]
  },
  {
   "cell_type": "code",
   "execution_count": 5,
   "id": "319c3990",
   "metadata": {},
   "outputs": [],
   "source": [
    "class QuickSort:\n",
    "    def __init__(self, array) -> None:\n",
    "        self.array = copy.deepcopy(array)\n",
    "        self._num_comparisons = 0\n",
    "        self._num_swaps = 0\n",
    "        self.n = len(array)\n",
    "    def partition(self, low, high):\n",
    "        \"\"\"\n",
    "        Create partition function for inplace array modification\n",
    "        \"\"\"\n",
    "        i = low - 1\n",
    "        pivot_index = median_of_3(self.array, low, high)\n",
    "        self.array[pivot_index], self.array[high] = self.array[high], self.array[pivot_index]\n",
    "        #print('partition index: ', self.array[pivot_index])\n",
    "        pivot = self.array[high]\n",
    "        for j in range(low, high):\n",
    "            self.num_comparisons += 1\n",
    "            if self.array[j] <= pivot:\n",
    "                self.num_swaps += 1\n",
    "                i = i + 1\n",
    "                self.array[j], self.array[i] = self.array[i], self.array[j]\n",
    "        self.array[i + 1], self.array[high] = self.array[high], self.array[i + 1]\n",
    "        return i + 1\n",
    "\n",
    "    def q_sort(self, low, high):\n",
    "        \"\"\"\n",
    "        Perform recursive calls\n",
    "        \"\"\"\n",
    "        if low < high:\n",
    "            q = self.partition(low, high)\n",
    "            #print('pivot: ', self.array[q], ', index: ', q)\n",
    "            #print(self.array)\n",
    "            self.q_sort(low, q - 1)\n",
    "            self.q_sort(q + 1, high)\n",
    "    def sorting(self):\n",
    "        #print('1st call: ', self.array)\n",
    "        self.num_comparisons = 0\n",
    "        self.num_swaps = 0\n",
    "        self.q_sort(0, self.n - 1)"
   ]
  },
  {
   "cell_type": "markdown",
   "id": "aaf6d90b",
   "metadata": {},
   "source": [
    "## Comparativa de performance"
   ]
  },
  {
   "cell_type": "code",
   "execution_count": 6,
   "id": "58c6d689",
   "metadata": {},
   "outputs": [],
   "source": [
    "comparisons_qs = []\n",
    "swaps_qs = []\n",
    "comparisons_bs = []\n",
    "swaps_bs = []\n",
    "comparisons_fbs = []\n",
    "swaps_fbs = []\n",
    "lenghts = []"
   ]
  },
  {
   "cell_type": "code",
   "execution_count": 7,
   "id": "b957c69b",
   "metadata": {},
   "outputs": [
    {
     "name": "stdout",
     "output_type": "stream",
     "text": [
      "Array 100 done\n",
      "Array 200 done\n",
      "Array 300 done\n",
      "Array 400 done\n",
      "Array 500 done\n",
      "Array 600 done\n",
      "Array 700 done\n",
      "Array 800 done\n",
      "Array 900 done\n",
      "Array 1000 done\n",
      "Array 1100 done\n",
      "Array 1200 done\n",
      "Array 1300 done\n",
      "Array 1400 done\n",
      "Array 1500 done\n",
      "Array 1600 done\n",
      "Array 1700 done\n",
      "Array 1800 done\n",
      "Array 1900 done\n",
      "Array 2000 done\n"
     ]
    }
   ],
   "source": [
    "for i in range(100, 2_001, 100):\n",
    "    temp_arr = np.random.randint(0, 100_000, i)\n",
    "    temp_qsort = QuickSort(temp_arr)\n",
    "    temp_qsort.sorting()\n",
    "    temp_bsort = BubbleSort(temp_arr)\n",
    "    temp_bsort.sorting()\n",
    "    temp_fbsort = FlagBubbleSort(temp_arr)\n",
    "    temp_fbsort.sorting()\n",
    "    lenghts.append(i)\n",
    "    swaps_qs.append(temp_qsort.num_swaps)\n",
    "    comparisons_qs.append(temp_qsort.num_comparisons)\n",
    "    swaps_bs.append(temp_bsort.num_swaps)\n",
    "    comparisons_bs.append(temp_bsort.num_comparisons)\n",
    "    swaps_fbs.append(temp_fbsort.num_swaps)\n",
    "    comparisons_fbs.append(temp_fbsort.num_comparisons)\n",
    "    print(f'Array {i} done')"
   ]
  },
  {
   "cell_type": "code",
   "execution_count": 8,
   "id": "da3af02e",
   "metadata": {},
   "outputs": [
    {
     "data": {
      "image/png": "[encoded data removed]",
      "text/plain": [
       "<Figure size 640x480 with 1 Axes>"
      ]
     },
     "metadata": {},
     "output_type": "display_data"
    }
   ],
   "source": [
    "plt.scatter(x = lenghts, y = comparisons_qs, label='Quicksort', s = 12, c = 'g')\n",
    "plt.scatter(x = lenghts, y = comparisons_bs, label='Bubblesort', s = 12, c = 'r', marker = 'x')\n",
    "plt.scatter(x = lenghts, y = comparisons_fbs, label='FlagBubblesort', s = 12, c = 'b', marker = 'v')\n",
    "plt.title('Number of Comparisons')\n",
    "plt.xlabel('Array Length')\n",
    "plt.legend()\n",
    "plt.show()"
   ]
  },
  {
   "cell_type": "code",
   "execution_count": 9,
   "id": "7e0a2aa1",
   "metadata": {},
   "outputs": [
    {
     "data": {
      "image/png": "[encoded data removed]",
      "text/plain": [
       "<Figure size 640x480 with 1 Axes>"
      ]
     },
     "metadata": {},
     "output_type": "display_data"
    }
   ],
   "source": [
    "plt.scatter(x = lenghts, y = swaps_qs, label='Quicksort', s = 12, c = 'g')\n",
    "plt.scatter(x = lenghts, y = swaps_bs, label='Bubblesort', s = 12, c = 'r', marker = 'x')\n",
    "plt.scatter(x = lenghts, y = swaps_fbs, label='FlagBubblesort', s = 12, c = 'b', marker = 'v')\n",
    "plt.xlabel('Array Length')\n",
    "plt.title('Number of swaps')\n",
    "plt.legend()\n",
    "plt.show()"
   ]
  },
  {
   "cell_type": "code",
   "execution_count": 24,
   "id": "dc7fcaa6",
   "metadata": {},
   "outputs": [],
   "source": [
    "grupo_control = [4.9, 4.8, 5.1, 4.8, 4.8, 4.9, 4.9, 5.0]\n",
    "grupo_experimental = [4.8, 4.9, 5.0, 4.9, 4.3, 4.2, 4.4, 4.4]\n",
    "names = ['1er previo', '2do previo', '3er previo', '4to previo', '1er posterior', '2do posterior', '3er posterior', '4to posterior']"
   ]
  },
  {
   "cell_type": "code",
   "execution_count": 33,
   "id": "c3ede5ec",
   "metadata": {},
   "outputs": [],
   "source": [
    "valores = grupo_control + grupo_experimental\n",
    "names2 = names +names\n",
    "grupos_num = [1, 1, 1, 1, 1, 1, 1, 1, 2, 2, 2, 2, 2, 2, 2, 2]\n",
    "grupos = ['Control' if i == 1 else 'Experimental' for i in grupos_num]\n",
    "\n"
   ]
  },
  {
   "cell_type": "code",
   "execution_count": 34,
   "id": "e5e0312a",
   "metadata": {},
   "outputs": [
    {
     "data": {
      "text/plain": [
       "[4.9,\n",
       " 4.8,\n",
       " 5.1,\n",
       " 4.8,\n",
       " 4.8,\n",
       " 4.9,\n",
       " 4.9,\n",
       " 5.0,\n",
       " 4.8,\n",
       " 4.9,\n",
       " 5.0,\n",
       " 4.9,\n",
       " 4.3,\n",
       " 4.2,\n",
       " 4.4,\n",
       " 4.4]"
      ]
     },
     "execution_count": 34,
     "metadata": {},
     "output_type": "execute_result"
    }
   ],
   "source": [
    "valores"
   ]
  },
  {
   "cell_type": "code",
   "execution_count": 35,
   "id": "c8f8fb47",
   "metadata": {},
   "outputs": [
    {
     "data": {
      "text/plain": [
       "['1er previo',\n",
       " '2do previo',\n",
       " '3er previo',\n",
       " '4to previo',\n",
       " '1er posterior',\n",
       " '2do posterior',\n",
       " '3er posterior',\n",
       " '4to posterior',\n",
       " '1er previo',\n",
       " '2do previo',\n",
       " '3er previo',\n",
       " '4to previo',\n",
       " '1er posterior',\n",
       " '2do posterior',\n",
       " '3er posterior',\n",
       " '4to posterior']"
      ]
     },
     "execution_count": 35,
     "metadata": {},
     "output_type": "execute_result"
    }
   ],
   "source": [
    "names2"
   ]
  },
  {
   "cell_type": "code",
   "execution_count": 48,
   "id": "7782f010",
   "metadata": {},
   "outputs": [],
   "source": [
    "import pandas as pd\n",
    "\n",
    "df = pd.DataFrame({'Grupos':grupos, 'Periodo':names2, 'Consumo':valores})"
   ]
  },
  {
   "cell_type": "code",
   "execution_count": 49,
   "id": "9b4e2748",
   "metadata": {},
   "outputs": [
    {
     "data": {
      "text/html": [
       "<div>\n",
       "<style scoped>\n",
       "    .dataframe tbody tr th:only-of-type {\n",
       "        vertical-align: middle;\n",
       "    }\n",
       "\n",
       "    .dataframe tbody tr th {\n",
       "        vertical-align: top;\n",
       "    }\n",
       "\n",
       "    .dataframe thead th {\n",
       "        text-align: right;\n",
       "    }\n",
       "</style>\n",
       "<table border=\"1\" class=\"dataframe\">\n",
       "  <thead>\n",
       "    <tr style=\"text-align: right;\">\n",
       "      <th></th>\n",
       "      <th>Grupos</th>\n",
       "      <th>Periodo</th>\n",
       "      <th>Consumo</th>\n",
       "    </tr>\n",
       "  </thead>\n",
       "  <tbody>\n",
       "    <tr>\n",
       "      <th>0</th>\n",
       "      <td>Control</td>\n",
       "      <td>1er previo</td>\n",
       "      <td>4.9</td>\n",
       "    </tr>\n",
       "    <tr>\n",
       "      <th>1</th>\n",
       "      <td>Control</td>\n",
       "      <td>2do previo</td>\n",
       "      <td>4.8</td>\n",
       "    </tr>\n",
       "    <tr>\n",
       "      <th>2</th>\n",
       "      <td>Control</td>\n",
       "      <td>3er previo</td>\n",
       "      <td>5.1</td>\n",
       "    </tr>\n",
       "    <tr>\n",
       "      <th>3</th>\n",
       "      <td>Control</td>\n",
       "      <td>4to previo</td>\n",
       "      <td>4.8</td>\n",
       "    </tr>\n",
       "    <tr>\n",
       "      <th>4</th>\n",
       "      <td>Control</td>\n",
       "      <td>1er posterior</td>\n",
       "      <td>4.8</td>\n",
       "    </tr>\n",
       "    <tr>\n",
       "      <th>5</th>\n",
       "      <td>Control</td>\n",
       "      <td>2do posterior</td>\n",
       "      <td>4.9</td>\n",
       "    </tr>\n",
       "    <tr>\n",
       "      <th>6</th>\n",
       "      <td>Control</td>\n",
       "      <td>3er posterior</td>\n",
       "      <td>4.9</td>\n",
       "    </tr>\n",
       "    <tr>\n",
       "      <th>7</th>\n",
       "      <td>Control</td>\n",
       "      <td>4to posterior</td>\n",
       "      <td>5.0</td>\n",
       "    </tr>\n",
       "    <tr>\n",
       "      <th>8</th>\n",
       "      <td>Experimental</td>\n",
       "      <td>1er previo</td>\n",
       "      <td>4.8</td>\n",
       "    </tr>\n",
       "    <tr>\n",
       "      <th>9</th>\n",
       "      <td>Experimental</td>\n",
       "      <td>2do previo</td>\n",
       "      <td>4.9</td>\n",
       "    </tr>\n",
       "    <tr>\n",
       "      <th>10</th>\n",
       "      <td>Experimental</td>\n",
       "      <td>3er previo</td>\n",
       "      <td>5.0</td>\n",
       "    </tr>\n",
       "    <tr>\n",
       "      <th>11</th>\n",
       "      <td>Experimental</td>\n",
       "      <td>4to previo</td>\n",
       "      <td>4.9</td>\n",
       "    </tr>\n",
       "    <tr>\n",
       "      <th>12</th>\n",
       "      <td>Experimental</td>\n",
       "      <td>1er posterior</td>\n",
       "      <td>4.3</td>\n",
       "    </tr>\n",
       "    <tr>\n",
       "      <th>13</th>\n",
       "      <td>Experimental</td>\n",
       "      <td>2do posterior</td>\n",
       "      <td>4.2</td>\n",
       "    </tr>\n",
       "    <tr>\n",
       "      <th>14</th>\n",
       "      <td>Experimental</td>\n",
       "      <td>3er posterior</td>\n",
       "      <td>4.4</td>\n",
       "    </tr>\n",
       "    <tr>\n",
       "      <th>15</th>\n",
       "      <td>Experimental</td>\n",
       "      <td>4to posterior</td>\n",
       "      <td>4.4</td>\n",
       "    </tr>\n",
       "  </tbody>\n",
       "</table>\n",
       "</div>"
      ],
      "text/plain": [
       "          Grupos        Periodo  Consumo\n",
       "0        Control     1er previo      4.9\n",
       "1        Control     2do previo      4.8\n",
       "2        Control     3er previo      5.1\n",
       "3        Control     4to previo      4.8\n",
       "4        Control  1er posterior      4.8\n",
       "5        Control  2do posterior      4.9\n",
       "6        Control  3er posterior      4.9\n",
       "7        Control  4to posterior      5.0\n",
       "8   Experimental     1er previo      4.8\n",
       "9   Experimental     2do previo      4.9\n",
       "10  Experimental     3er previo      5.0\n",
       "11  Experimental     4to previo      4.9\n",
       "12  Experimental  1er posterior      4.3\n",
       "13  Experimental  2do posterior      4.2\n",
       "14  Experimental  3er posterior      4.4\n",
       "15  Experimental  4to posterior      4.4"
      ]
     },
     "execution_count": 49,
     "metadata": {},
     "output_type": "execute_result"
    }
   ],
   "source": [
    "df"
   ]
  },
  {
   "cell_type": "code",
   "execution_count": null,
   "id": "03211b04",
   "metadata": {},
   "outputs": [],
   "source": []
  },
  {
   "cell_type": "code",
   "execution_count": 50,
   "id": "d72b2578",
   "metadata": {},
   "outputs": [],
   "source": [
    "import seaborn as sns\n",
    "sns.set_context(\"paper\")\n",
    "plt.rcParams['figure.figsize'] = [8, 8]\n",
    "plt.rcParams[\"font.family\"] = \"Times New Roman\"\n",
    "plt.rcParams['ytick.labelsize'] = 15\n",
    "plt.rcParams['xtick.labelsize'] = 20\n",
    "plt.rcParams['axes.labelsize'] = 20\n",
    "\n",
    "colors = [\"#807fff\", \"#fd7f82\", \"#84a97e\"]\n",
    "sns.set_palette(sns.color_palette(colors))"
   ]
  },
  {
   "cell_type": "code",
   "execution_count": 51,
   "id": "460896ff",
   "metadata": {},
   "outputs": [
    {
     "data": {
      "text/plain": [
       "<Axes: xlabel='Consumo', ylabel='Periodo'>"
      ]
     },
     "execution_count": 51,
     "metadata": {},
     "output_type": "execute_result"
    },
    {
     "data": {
      "image/png": "[encoded data removed]",
      "text/plain": [
       "<Figure size 800x800 with 1 Axes>"
      ]
     },
     "metadata": {},
     "output_type": "display_data"
    }
   ],
   "source": [
    "sns.barplot(x='Consumo', y= 'Periodo', hue = 'Grupos', data = df)"
   ]
  },
  {
   "cell_type": "code",
   "execution_count": 55,
   "id": "f4b5fc01",
   "metadata": {},
   "outputs": [
    {
     "data": {
      "text/plain": [
       "<Axes: xlabel='Consumo', ylabel='Grupos'>"
      ]
     },
     "execution_count": 55,
     "metadata": {},
     "output_type": "execute_result"
    },
    {
     "data": {
      "image/png": "[encoded data removed]",
      "text/plain": [
       "<Figure size 800x800 with 1 Axes>"
      ]
     },
     "metadata": {},
     "output_type": "display_data"
    }
   ],
   "source": [
    "sns.boxplot(x='Consumo', y = 'Grupos', data = df, hue='Grupos')"
   ]
  },
  {
   "cell_type": "markdown",
   "id": "69812c1a",
   "metadata": {},
   "source": [
    "En Terminal\n",
    "Ejecutar\n",
    "\n",
    "pdflatex reporte_quicksort.tex\n",
    "\n",
    "bibtex reporte_quicksort Este es el que falta\n",
    "\n",
    "pdflatex reporte_quicksort.tex\n",
    "\n",
    "pdflatex reporte_quicksort.tex"
   ]
  },
  {
   "cell_type": "code",
   "execution_count": 61,
   "id": "2a5de4fc",
   "metadata": {},
   "outputs": [
    {
     "name": "stdout",
     "output_type": "stream",
     "text": [
      "Probability of exactly 0 successes: 0.07871720116618079\n",
      "Probability of exactly 1 successes: 0.3148688046647231\n",
      "Probability of exactly 2 successes: 0.41982507288629733\n",
      "Probability of exactly 3 successes: 0.1865889212827988\n"
     ]
    }
   ],
   "source": [
    "from scipy.stats import binom\n",
    "\n",
    "# Calculate the probability of exactly 3 successes in 10 trials with p=0.5\n",
    "for i in range(0,4):\n",
    "    prob_exact_3 = binom.pmf(k=i, n=3, p=4/7)\n",
    "    print(f\"Probability of exactly {i} successes: {prob_exact_3}\")\n",
    "\n"
   ]
  },
  {
   "cell_type": "code",
   "execution_count": 59,
   "id": "132304ec",
   "metadata": {},
   "outputs": [
    {
     "data": {
      "text/plain": [
       "0.02857142857142857"
      ]
     },
     "execution_count": 59,
     "metadata": {},
     "output_type": "execute_result"
    }
   ],
   "source": [
    "1/35"
   ]
  },
  {
   "cell_type": "code",
   "execution_count": 60,
   "id": "d381585b",
   "metadata": {},
   "outputs": [
    {
     "data": {
      "text/plain": [
       "0.34285714285714286"
      ]
     },
     "execution_count": 60,
     "metadata": {},
     "output_type": "execute_result"
    }
   ],
   "source": [
    "12/35"
   ]
  },
  {
   "cell_type": "code",
   "execution_count": 62,
   "id": "6c29d430",
   "metadata": {},
   "outputs": [
    {
     "data": {
      "text/plain": [
       "0.5142857142857142"
      ]
     },
     "execution_count": 62,
     "metadata": {},
     "output_type": "execute_result"
    }
   ],
   "source": [
    "18/35"
   ]
  },
  {
   "cell_type": "code",
   "execution_count": 63,
   "id": "cda304ae",
   "metadata": {},
   "outputs": [
    {
     "data": {
      "text/plain": [
       "0.11428571428571428"
      ]
     },
     "execution_count": 63,
     "metadata": {},
     "output_type": "execute_result"
    }
   ],
   "source": [
    "4/35"
   ]
  },
  {
   "cell_type": "code",
   "execution_count": 64,
   "id": "252d6a80",
   "metadata": {},
   "outputs": [
    {
     "data": {
      "text/plain": [
       "1.7142857142857142"
      ]
     },
     "execution_count": 64,
     "metadata": {},
     "output_type": "execute_result"
    }
   ],
   "source": [
    "12/7"
   ]
  },
  {
   "cell_type": "code",
   "execution_count": null,
   "id": "3a44379f",
   "metadata": {},
   "outputs": [],
   "source": []
  },
  {
   "cell_type": "code",
   "execution_count": null,
   "id": "bae9535b",
   "metadata": {},
   "outputs": [],
   "source": []
  },
  {
   "cell_type": "code",
   "execution_count": null,
   "id": "4590b835",
   "metadata": {},
   "outputs": [],
   "source": []
  }
 ],
 "metadata": {
  "kernelspec": {
   "display_name": "Python 3",
   "language": "python",
   "name": "python3"
  },
  "language_info": {
   "codemirror_mode": {
    "name": "ipython",
    "version": 3
   },
   "file_extension": ".py",
   "mimetype": "text/x-python",
   "name": "python",
   "nbconvert_exporter": "python",
   "pygments_lexer": "ipython3",
   "version": "3.11.9"
  }
 },
 "nbformat": 4,
 "nbformat_minor": 5
}
