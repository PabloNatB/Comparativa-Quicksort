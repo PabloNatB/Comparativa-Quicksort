{
 "cells": [
  {
   "cell_type": "markdown",
   "id": "03f77b4d",
   "metadata": {},
   "source": [
    "# Implementación de Algoritmos de Ordenamiento"
   ]
  },
  {
   "cell_type": "markdown",
   "id": "44ed5cfc",
   "metadata": {},
   "source": [
    "## BubbleSort"
   ]
  },
  {
   "cell_type": "code",
   "execution_count": 1,
   "id": "1a2f154c",
   "metadata": {},
   "outputs": [],
   "source": [
    "def bubbleSort(array : list[int])->list[int]:\n",
    "    n = len(array)\n",
    "    changes = 0\n",
    "    comparisons = 0\n",
    "    for i in range(n - 1):\n",
    "        for j in range(n - 1 - i):\n",
    "            comparisons += 1\n",
    "            if array[j] > array[j + 1]:\n",
    "                array[j + 1], array[j] = array[j], array[j + 1]\n",
    "                changes += 1\n",
    "    print('com: ', comparisons, ', cambios: ', changes)\n",
    "    return array"
   ]
  },
  {
   "cell_type": "code",
   "execution_count": 2,
   "id": "fe7f2060",
   "metadata": {},
   "outputs": [
    {
     "name": "stdout",
     "output_type": "stream",
     "text": [
      "com:  28 , cambios:  7\n"
     ]
    },
    {
     "data": {
      "text/plain": [
       "[0, 1, 3, 5, 6, 8, 9, 20]"
      ]
     },
     "execution_count": 2,
     "metadata": {},
     "output_type": "execute_result"
    }
   ],
   "source": [
    "vec = [6, 1, 0, 8, 3, 5, 9, 20]\n",
    "bubbleSort(vec)"
   ]
  },
  {
   "cell_type": "code",
   "execution_count": 6,
   "id": "a11dbd69",
   "metadata": {},
   "outputs": [
    {
     "name": "stdout",
     "output_type": "stream",
     "text": [
      "Array ordenado: [0, 1, 3, 5, 6, 8, 9, 20]\n",
      "Total de Comparaciones: 22\n",
      "Total de Intercambios: 19\n"
     ]
    },
    {
     "data": {
      "text/plain": [
       "[0, 1, 3, 5, 6, 8, 9, 20]"
      ]
     },
     "execution_count": 6,
     "metadata": {},
     "output_type": "execute_result"
    }
   ],
   "source": [
    "def partition(array, low, high, comparisons, swaps):\n",
    "    # Elige el elemento más a la derecha como pivote\n",
    "    pivot = array[high]\n",
    "\n",
    "    # Puntero para el elemento mayor (donde se coloca el siguiente menor)\n",
    "    i = low - 1\n",
    "\n",
    "    # Bucle principal de partición\n",
    "    for j in range(low, high):\n",
    "        comparisons += 1  # ⭐️ Cada vez que se ejecuta el 'if' hay una comparación\n",
    "\n",
    "        # Si el elemento actual es menor o igual al pivote\n",
    "        if array[j] <= pivot:\n",
    "            # Mueve el puntero y realiza un intercambio (swap)\n",
    "            i = i + 1\n",
    "            \n",
    "            # Intercambio\n",
    "            (array[i], array[j]) = (array[j], array[i])\n",
    "            swaps += 1  # ⭐️ Incrementa el contador de intercambios\n",
    "\n",
    "    # Coloca el pivote en su posición correcta\n",
    "    (array[i + 1], array[high]) = (array[high], array[i + 1])\n",
    "    #swaps += 1  # ⭐️ El swap final del pivote también cuenta\n",
    "\n",
    "    return i + 1, comparisons, swaps\n",
    "\n",
    "\n",
    "def quickSort(array, low, high, comparisons, swaps):\n",
    "    if low < high:\n",
    "        # Llama a partition y recibe la nueva posición del pivote (pi) y los contadores actualizados\n",
    "        pi, comparisons, swaps = partition(array, low, high, comparisons, swaps)\n",
    "\n",
    "        # Llamadas recursivas, pasando los contadores\n",
    "        comparisons, swaps = quickSort(array, low, pi - 1, comparisons, swaps)\n",
    "        comparisons, swaps = quickSort(array, pi + 1, high, comparisons, swaps)\n",
    "    \n",
    "    # Devuelve los contadores actualizados de vuelta a la llamada superior\n",
    "    return comparisons, swaps\n",
    "\n",
    "\n",
    "def runQuickSort(array):\n",
    "    \"\"\"Función de envoltura para inicializar y ejecutar Quicksort.\"\"\"\n",
    "    n = len(array)\n",
    "    # Inicializa los contadores\n",
    "    comparisons = 0\n",
    "    swaps = 0\n",
    "    \n",
    "    # Crea una copia del array para no modificar el original (opcional)\n",
    "    arr_copy = array[:]\n",
    "\n",
    "    # Ejecuta el algoritmo\n",
    "    final_comparisons, final_swaps = quickSort(arr_copy, 0, n - 1, comparisons, swaps)\n",
    "\n",
    "    print(f\"Array ordenado: {arr_copy}\")\n",
    "    print(f\"Total de Comparaciones: {final_comparisons}\")\n",
    "    print(f\"Total de Intercambios: {final_swaps}\")\n",
    "    return arr_copy\n",
    "\n",
    "# --- Ejemplo de uso ---\n",
    "vec = [6, 1, 0, 8, 3, 5, 9, 20]\n",
    "runQuickSort(vec)"
   ]
  },
  {
   "cell_type": "code",
   "execution_count": null,
   "id": "607e9f14",
   "metadata": {},
   "outputs": [],
   "source": []
  }
 ],
 "metadata": {
  "kernelspec": {
   "display_name": "Python 3",
   "language": "python",
   "name": "python3"
  },
  "language_info": {
   "codemirror_mode": {
    "name": "ipython",
    "version": 3
   },
   "file_extension": ".py",
   "mimetype": "text/x-python",
   "name": "python",
   "nbconvert_exporter": "python",
   "pygments_lexer": "ipython3",
   "version": "3.11.9"
  }
 },
 "nbformat": 4,
 "nbformat_minor": 5
}
